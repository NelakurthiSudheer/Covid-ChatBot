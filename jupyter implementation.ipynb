{
 "cells": [
  {
   "cell_type": "code",
   "execution_count": 25,
   "metadata": {
    "id": "dYFODTwzHG1q"
   },
   "outputs": [],
   "source": [
    "import numpy as np\n",
    "import pandas as pd\n",
    "import re\n",
    "import warnings\n",
    "warnings.filterwarnings('ignore')"
   ]
  },
  {
   "cell_type": "code",
   "execution_count": 2,
   "metadata": {
    "id": "bK8Kdc4FHG1w"
   },
   "outputs": [],
   "source": [
    "df = pd.read_csv(\"covid_faq.csv\")"
   ]
  },
  {
   "cell_type": "code",
   "execution_count": 3,
   "metadata": {
    "colab": {
     "base_uri": "https://localhost:8080/",
     "height": 206
    },
    "id": "9uLd-StuHG1y",
    "outputId": "67c8b43e-fba8-4766-e9e2-db718036a874"
   },
   "outputs": [
    {
     "data": {
      "text/html": [
       "<div>\n",
       "<style scoped>\n",
       "    .dataframe tbody tr th:only-of-type {\n",
       "        vertical-align: middle;\n",
       "    }\n",
       "\n",
       "    .dataframe tbody tr th {\n",
       "        vertical-align: top;\n",
       "    }\n",
       "\n",
       "    .dataframe thead th {\n",
       "        text-align: right;\n",
       "    }\n",
       "</style>\n",
       "<table border=\"1\" class=\"dataframe\">\n",
       "  <thead>\n",
       "    <tr style=\"text-align: right;\">\n",
       "      <th></th>\n",
       "      <th>questions</th>\n",
       "      <th>answers</th>\n",
       "    </tr>\n",
       "  </thead>\n",
       "  <tbody>\n",
       "    <tr>\n",
       "      <td>0</td>\n",
       "      <td>What is a novel coronavirus?</td>\n",
       "      <td>A novel coronavirus is a new coronavirus that ...</td>\n",
       "    </tr>\n",
       "    <tr>\n",
       "      <td>1</td>\n",
       "      <td>Why is the disease being called coronavirus di...</td>\n",
       "      <td>On February 11, 2020 the World Health Organiza...</td>\n",
       "    </tr>\n",
       "    <tr>\n",
       "      <td>2</td>\n",
       "      <td>How does the virus spread?</td>\n",
       "      <td>The virus that causes COVID-19 is thought to s...</td>\n",
       "    </tr>\n",
       "    <tr>\n",
       "      <td>3</td>\n",
       "      <td>Can I get COVID-19 from food (including restau...</td>\n",
       "      <td>Currently there is no evidence that people can...</td>\n",
       "    </tr>\n",
       "    <tr>\n",
       "      <td>4</td>\n",
       "      <td>Will warm weather stop the outbreak of COVID-19?</td>\n",
       "      <td>It is not yet known whether weather and temper...</td>\n",
       "    </tr>\n",
       "  </tbody>\n",
       "</table>\n",
       "</div>"
      ],
      "text/plain": [
       "                                           questions  \\\n",
       "0                       What is a novel coronavirus?   \n",
       "1  Why is the disease being called coronavirus di...   \n",
       "2                         How does the virus spread?   \n",
       "3  Can I get COVID-19 from food (including restau...   \n",
       "4   Will warm weather stop the outbreak of COVID-19?   \n",
       "\n",
       "                                             answers  \n",
       "0  A novel coronavirus is a new coronavirus that ...  \n",
       "1  On February 11, 2020 the World Health Organiza...  \n",
       "2  The virus that causes COVID-19 is thought to s...  \n",
       "3  Currently there is no evidence that people can...  \n",
       "4  It is not yet known whether weather and temper...  "
      ]
     },
     "execution_count": 3,
     "metadata": {},
     "output_type": "execute_result"
    }
   ],
   "source": [
    "df.head()"
   ]
  },
  {
   "cell_type": "markdown",
   "metadata": {
    "id": "ylTG0xjVHG1z"
   },
   "source": [
    "## Cleaning the Data"
   ]
  },
  {
   "cell_type": "code",
   "execution_count": 4,
   "metadata": {
    "colab": {
     "base_uri": "https://localhost:8080/"
    },
    "id": "8hPuEPI9HG12",
    "outputId": "4f512654-715d-4c5b-9baa-6db2e6e8d9b8"
   },
   "outputs": [
    {
     "name": "stderr",
     "output_type": "stream",
     "text": [
      "[nltk_data] Downloading package punkt to\n",
      "[nltk_data]     C:\\Users\\pc\\AppData\\Roaming\\nltk_data...\n",
      "[nltk_data]   Package punkt is already up-to-date!\n",
      "[nltk_data] Downloading package averaged_perceptron_tagger to\n",
      "[nltk_data]     C:\\Users\\pc\\AppData\\Roaming\\nltk_data...\n",
      "[nltk_data]   Package averaged_perceptron_tagger is already up-to-\n",
      "[nltk_data]       date!\n",
      "[nltk_data] Downloading package wordnet to\n",
      "[nltk_data]     C:\\Users\\pc\\AppData\\Roaming\\nltk_data...\n",
      "[nltk_data]   Package wordnet is already up-to-date!\n"
     ]
    }
   ],
   "source": [
    "import nltk    \n",
    "nltk.download('punkt')    #divides sentence into list of sentences\n",
    "nltk.download('averaged_perceptron_tagger')   #tagging words with their parts of speech\n",
    "nltk.download('wordnet')                # a lexical database for the English language\n",
    "from nltk import word_tokenize\n",
    "    # Word Tokenization ---> It makes tokens(individual words)\n",
    "from nltk.stem import wordnet     # To perform Lemmitization\n",
    "from nltk import pos_tag          # For parts f speech"
   ]
  },
  {
   "cell_type": "code",
   "execution_count": 5,
   "metadata": {
    "id": "c4lbTxEeHG13"
   },
   "outputs": [],
   "source": [
    "# ----------------------------Text Normalization-----------------------------------#\n",
    "\n",
    "def lemmatiztaion(text):\n",
    "    text = str(text).lower()  # Converted into lower case\n",
    "    \n",
    "    spl_char_text = re.sub(r'[^a-z]',' ',text) # removed numbers and special characters\n",
    "    \n",
    "    tokens = word_tokenize(spl_char_text)   # word tokenization\n",
    "    \n",
    "    lemma = wordnet.WordNetLemmatizer()    # initalize lemmatizer\n",
    "    \n",
    "    tags_list = pos_tag(tokens, tagset= None) # Parts of speech\n",
    "    \n",
    "    # Created empty list\n",
    "    \n",
    "    lemma_words= []\n",
    "    \n",
    "    for token, pos_token in tags_list:\n",
    "        \n",
    "        if pos_token.startswith('V'):     # verb\n",
    "            pos_val = 'v'\n",
    "        elif pos_token.startswith('J'):   # adjective\n",
    "            pos_val = 'a'\n",
    "        elif pos_token.startswith('R'):   # adverb\n",
    "            pos_val = 'r'\n",
    "        else:    # any parts of speech except verb, adjective, adverb\n",
    "            pos_val ='n'\n",
    "            \n",
    "        lemma_token = lemma.lemmatize(token, pos_val)   # computing\n",
    "        lemma_words.append(lemma_token) # append values in list\n",
    "        \n",
    "            \n",
    "    return \" \".join(lemma_words)"
   ]
  },
  {
   "cell_type": "code",
   "execution_count": 6,
   "metadata": {
    "colab": {
     "base_uri": "https://localhost:8080/",
     "height": 144
    },
    "id": "eAjpGVOaIX6f",
    "outputId": "2b3e45f6-3ecd-4ce9-e8de-fb7d5a472fbd"
   },
   "outputs": [
    {
     "data": {
      "text/html": [
       "<div>\n",
       "<style scoped>\n",
       "    .dataframe tbody tr th:only-of-type {\n",
       "        vertical-align: middle;\n",
       "    }\n",
       "\n",
       "    .dataframe tbody tr th {\n",
       "        vertical-align: top;\n",
       "    }\n",
       "\n",
       "    .dataframe thead th {\n",
       "        text-align: right;\n",
       "    }\n",
       "</style>\n",
       "<table border=\"1\" class=\"dataframe\">\n",
       "  <thead>\n",
       "    <tr style=\"text-align: right;\">\n",
       "      <th></th>\n",
       "      <th>questions</th>\n",
       "      <th>answers</th>\n",
       "    </tr>\n",
       "  </thead>\n",
       "  <tbody>\n",
       "    <tr>\n",
       "      <td>0</td>\n",
       "      <td>What is a novel coronavirus?</td>\n",
       "      <td>A novel coronavirus is a new coronavirus that ...</td>\n",
       "    </tr>\n",
       "    <tr>\n",
       "      <td>1</td>\n",
       "      <td>Why is the disease being called coronavirus di...</td>\n",
       "      <td>On February 11, 2020 the World Health Organiza...</td>\n",
       "    </tr>\n",
       "    <tr>\n",
       "      <td>2</td>\n",
       "      <td>How does the virus spread?</td>\n",
       "      <td>The virus that causes COVID-19 is thought to s...</td>\n",
       "    </tr>\n",
       "  </tbody>\n",
       "</table>\n",
       "</div>"
      ],
      "text/plain": [
       "                                           questions  \\\n",
       "0                       What is a novel coronavirus?   \n",
       "1  Why is the disease being called coronavirus di...   \n",
       "2                         How does the virus spread?   \n",
       "\n",
       "                                             answers  \n",
       "0  A novel coronavirus is a new coronavirus that ...  \n",
       "1  On February 11, 2020 the World Health Organiza...  \n",
       "2  The virus that causes COVID-19 is thought to s...  "
      ]
     },
     "execution_count": 6,
     "metadata": {},
     "output_type": "execute_result"
    }
   ],
   "source": [
    "df.head(3)"
   ]
  },
  {
   "cell_type": "code",
   "execution_count": 7,
   "metadata": {
    "id": "UoOJFTFMHG15"
   },
   "outputs": [],
   "source": [
    "df['lemmatize_text'] = df.questions.apply(lemmatiztaion)"
   ]
  },
  {
   "cell_type": "code",
   "execution_count": 8,
   "metadata": {
    "colab": {
     "base_uri": "https://localhost:8080/",
     "height": 519
    },
    "id": "7jVV82CTHG17",
    "outputId": "4b6d67aa-e9f0-48e4-d7c2-78f0bfc78c1f"
   },
   "outputs": [
    {
     "data": {
      "text/html": [
       "<div>\n",
       "<style scoped>\n",
       "    .dataframe tbody tr th:only-of-type {\n",
       "        vertical-align: middle;\n",
       "    }\n",
       "\n",
       "    .dataframe tbody tr th {\n",
       "        vertical-align: top;\n",
       "    }\n",
       "\n",
       "    .dataframe thead th {\n",
       "        text-align: right;\n",
       "    }\n",
       "</style>\n",
       "<table border=\"1\" class=\"dataframe\">\n",
       "  <thead>\n",
       "    <tr style=\"text-align: right;\">\n",
       "      <th></th>\n",
       "      <th>questions</th>\n",
       "      <th>answers</th>\n",
       "      <th>lemmatize_text</th>\n",
       "    </tr>\n",
       "  </thead>\n",
       "  <tbody>\n",
       "    <tr>\n",
       "      <td>0</td>\n",
       "      <td>What is a novel coronavirus?</td>\n",
       "      <td>A novel coronavirus is a new coronavirus that ...</td>\n",
       "      <td>what be a novel coronavirus</td>\n",
       "    </tr>\n",
       "    <tr>\n",
       "      <td>1</td>\n",
       "      <td>Why is the disease being called coronavirus di...</td>\n",
       "      <td>On February 11, 2020 the World Health Organiza...</td>\n",
       "      <td>why be the disease be call coronavirus disease...</td>\n",
       "    </tr>\n",
       "    <tr>\n",
       "      <td>2</td>\n",
       "      <td>How does the virus spread?</td>\n",
       "      <td>The virus that causes COVID-19 is thought to s...</td>\n",
       "      <td>how do the virus spread</td>\n",
       "    </tr>\n",
       "    <tr>\n",
       "      <td>3</td>\n",
       "      <td>Can I get COVID-19 from food (including restau...</td>\n",
       "      <td>Currently there is no evidence that people can...</td>\n",
       "      <td>can i get covid from food include restaurant t...</td>\n",
       "    </tr>\n",
       "    <tr>\n",
       "      <td>4</td>\n",
       "      <td>Will warm weather stop the outbreak of COVID-19?</td>\n",
       "      <td>It is not yet known whether weather and temper...</td>\n",
       "      <td>will warm weather stop the outbreak of covid</td>\n",
       "    </tr>\n",
       "    <tr>\n",
       "      <td>5</td>\n",
       "      <td>What is community spread?</td>\n",
       "      <td>Community spread means people have been infect...</td>\n",
       "      <td>what be community spread</td>\n",
       "    </tr>\n",
       "    <tr>\n",
       "      <td>6</td>\n",
       "      <td>Can mosquitoes or ticks spread the virus that ...</td>\n",
       "      <td>At this time, CDC has no data to suggest that ...</td>\n",
       "      <td>can mosquitoes or tick spread the virus that c...</td>\n",
       "    </tr>\n",
       "    <tr>\n",
       "      <td>7</td>\n",
       "      <td>How can I protect myself?</td>\n",
       "      <td>Visit the How to Protect Yourself &amp; Others pag...</td>\n",
       "      <td>how can i protect myself</td>\n",
       "    </tr>\n",
       "    <tr>\n",
       "      <td>8</td>\n",
       "      <td>Does CDC recommend the use of masks to prevent...</td>\n",
       "      <td>Wear masks in public settings when around peop...</td>\n",
       "      <td>do cdc recommend the use of mask to prevent covid</td>\n",
       "    </tr>\n",
       "    <tr>\n",
       "      <td>9</td>\n",
       "      <td>Is it safe to get care for my other medical co...</td>\n",
       "      <td>It is important to continue taking care of you...</td>\n",
       "      <td>be it safe to get care for my other medical co...</td>\n",
       "    </tr>\n",
       "    <tr>\n",
       "      <td>10</td>\n",
       "      <td>Am I at risk for COVID-19 from mail, packages,...</td>\n",
       "      <td>There is still a lot that is unknown about COV...</td>\n",
       "      <td>be i at risk for covid from mail package or pr...</td>\n",
       "    </tr>\n",
       "    <tr>\n",
       "      <td>11</td>\n",
       "      <td>Is it okay for me to donate blood?</td>\n",
       "      <td>In healthcare settings across the United State...</td>\n",
       "      <td>be it okay for me to donate blood</td>\n",
       "    </tr>\n",
       "    <tr>\n",
       "      <td>12</td>\n",
       "      <td>Should contact lens wearers take special preca...</td>\n",
       "      <td>Currently there is no evidence to suggest cont...</td>\n",
       "      <td>should contact lens wearer take special precau...</td>\n",
       "    </tr>\n",
       "    <tr>\n",
       "      <td>13</td>\n",
       "      <td>Is contact lens disinfecting solution effectiv...</td>\n",
       "      <td>Hydrogen peroxide-based systems for cleaning, ...</td>\n",
       "      <td>be contact lens disinfect solution effective a...</td>\n",
       "    </tr>\n",
       "    <tr>\n",
       "      <td>14</td>\n",
       "      <td>Should I use soap and water or hand sanitizer ...</td>\n",
       "      <td>Handwashing is one of the best ways to protect...</td>\n",
       "      <td>should i use soap and water or hand sanitizer ...</td>\n",
       "    </tr>\n",
       "  </tbody>\n",
       "</table>\n",
       "</div>"
      ],
      "text/plain": [
       "                                            questions  \\\n",
       "0                        What is a novel coronavirus?   \n",
       "1   Why is the disease being called coronavirus di...   \n",
       "2                          How does the virus spread?   \n",
       "3   Can I get COVID-19 from food (including restau...   \n",
       "4    Will warm weather stop the outbreak of COVID-19?   \n",
       "5                           What is community spread?   \n",
       "6   Can mosquitoes or ticks spread the virus that ...   \n",
       "7                           How can I protect myself?   \n",
       "8   Does CDC recommend the use of masks to prevent...   \n",
       "9   Is it safe to get care for my other medical co...   \n",
       "10  Am I at risk for COVID-19 from mail, packages,...   \n",
       "11                 Is it okay for me to donate blood?   \n",
       "12  Should contact lens wearers take special preca...   \n",
       "13  Is contact lens disinfecting solution effectiv...   \n",
       "14  Should I use soap and water or hand sanitizer ...   \n",
       "\n",
       "                                              answers  \\\n",
       "0   A novel coronavirus is a new coronavirus that ...   \n",
       "1   On February 11, 2020 the World Health Organiza...   \n",
       "2   The virus that causes COVID-19 is thought to s...   \n",
       "3   Currently there is no evidence that people can...   \n",
       "4   It is not yet known whether weather and temper...   \n",
       "5   Community spread means people have been infect...   \n",
       "6   At this time, CDC has no data to suggest that ...   \n",
       "7   Visit the How to Protect Yourself & Others pag...   \n",
       "8   Wear masks in public settings when around peop...   \n",
       "9   It is important to continue taking care of you...   \n",
       "10  There is still a lot that is unknown about COV...   \n",
       "11  In healthcare settings across the United State...   \n",
       "12  Currently there is no evidence to suggest cont...   \n",
       "13  Hydrogen peroxide-based systems for cleaning, ...   \n",
       "14  Handwashing is one of the best ways to protect...   \n",
       "\n",
       "                                       lemmatize_text  \n",
       "0                         what be a novel coronavirus  \n",
       "1   why be the disease be call coronavirus disease...  \n",
       "2                             how do the virus spread  \n",
       "3   can i get covid from food include restaurant t...  \n",
       "4        will warm weather stop the outbreak of covid  \n",
       "5                            what be community spread  \n",
       "6   can mosquitoes or tick spread the virus that c...  \n",
       "7                            how can i protect myself  \n",
       "8   do cdc recommend the use of mask to prevent covid  \n",
       "9   be it safe to get care for my other medical co...  \n",
       "10  be i at risk for covid from mail package or pr...  \n",
       "11                  be it okay for me to donate blood  \n",
       "12  should contact lens wearer take special precau...  \n",
       "13  be contact lens disinfect solution effective a...  \n",
       "14  should i use soap and water or hand sanitizer ...  "
      ]
     },
     "execution_count": 8,
     "metadata": {},
     "output_type": "execute_result"
    }
   ],
   "source": [
    "df.head(15)"
   ]
  },
  {
   "cell_type": "code",
   "execution_count": 9,
   "metadata": {
    "colab": {
     "base_uri": "https://localhost:8080/"
    },
    "id": "HsoNzkEOI-gO",
    "outputId": "a8d3b6da-4181-44e8-dc7c-01603f3d47d2"
   },
   "outputs": [
    {
     "name": "stderr",
     "output_type": "stream",
     "text": [
      "[nltk_data] Downloading package stopwords to\n",
      "[nltk_data]     C:\\Users\\pc\\AppData\\Roaming\\nltk_data...\n",
      "[nltk_data]   Package stopwords is already up-to-date!\n"
     ]
    },
    {
     "data": {
      "text/plain": [
       "True"
      ]
     },
     "execution_count": 9,
     "metadata": {},
     "output_type": "execute_result"
    }
   ],
   "source": [
    "#stop words\n",
    "from nltk.corpus import stopwords\n",
    "nltk.download('stopwords')"
   ]
  },
  {
   "cell_type": "code",
   "execution_count": 10,
   "metadata": {
    "colab": {
     "base_uri": "https://localhost:8080/"
    },
    "id": "yJDDB40vI-c-",
    "outputId": "0c77c5c2-885e-4ff6-baf0-c950af4274be"
   },
   "outputs": [
    {
     "name": "stdout",
     "output_type": "stream",
     "text": [
      "['i', 'me', 'my', 'myself', 'we', 'our', 'ours', 'ourselves', 'you', \"you're\", \"you've\", \"you'll\", \"you'd\", 'your', 'yours', 'yourself', 'yourselves', 'he', 'him', 'his', 'himself', 'she', \"she's\", 'her', 'hers', 'herself', 'it', \"it's\", 'its', 'itself', 'they', 'them', 'their', 'theirs', 'themselves', 'what', 'which', 'who', 'whom', 'this', 'that', \"that'll\", 'these', 'those', 'am', 'is', 'are', 'was', 'were', 'be', 'been', 'being', 'have', 'has', 'had', 'having', 'do', 'does', 'did', 'doing', 'a', 'an', 'the', 'and', 'but', 'if', 'or', 'because', 'as', 'until', 'while', 'of', 'at', 'by', 'for', 'with', 'about', 'against', 'between', 'into', 'through', 'during', 'before', 'after', 'above', 'below', 'to', 'from', 'up', 'down', 'in', 'out', 'on', 'off', 'over', 'under', 'again', 'further', 'then', 'once', 'here', 'there', 'when', 'where', 'why', 'how', 'all', 'any', 'both', 'each', 'few', 'more', 'most', 'other', 'some', 'such', 'no', 'nor', 'not', 'only', 'own', 'same', 'so', 'than', 'too', 'very', 's', 't', 'can', 'will', 'just', 'don', \"don't\", 'should', \"should've\", 'now', 'd', 'll', 'm', 'o', 're', 've', 'y', 'ain', 'aren', \"aren't\", 'couldn', \"couldn't\", 'didn', \"didn't\", 'doesn', \"doesn't\", 'hadn', \"hadn't\", 'hasn', \"hasn't\", 'haven', \"haven't\", 'isn', \"isn't\", 'ma', 'mightn', \"mightn't\", 'mustn', \"mustn't\", 'needn', \"needn't\", 'shan', \"shan't\", 'shouldn', \"shouldn't\", 'wasn', \"wasn't\", 'weren', \"weren't\", 'won', \"won't\", 'wouldn', \"wouldn't\"]\n"
     ]
    }
   ],
   "source": [
    "stop = stopwords.words('english')\n",
    "print(stop)"
   ]
  },
  {
   "cell_type": "code",
   "execution_count": 11,
   "metadata": {
    "id": "De8yXTY6I-bo"
   },
   "outputs": [],
   "source": [
    "#example\n",
    "Question = \"What is corona virus?\""
   ]
  },
  {
   "cell_type": "code",
   "execution_count": 12,
   "metadata": {
    "id": "-6uM5pKsI-Xz"
   },
   "outputs": [],
   "source": [
    "Q= []\n",
    "a = Question.split()\n",
    "for i in a:\n",
    "    if i in stop:\n",
    "        continue\n",
    "    else:\n",
    "        Q.append(i)\n",
    "    b =\" \".join(Q)"
   ]
  },
  {
   "cell_type": "code",
   "execution_count": 13,
   "metadata": {},
   "outputs": [],
   "source": [
    "Question_lemma = lemmatiztaion(b)   # applying function for text normalization"
   ]
  },
  {
   "cell_type": "code",
   "execution_count": 14,
   "metadata": {},
   "outputs": [
    {
     "data": {
      "text/plain": [
       "'What corona virus?'"
      ]
     },
     "execution_count": 14,
     "metadata": {},
     "output_type": "execute_result"
    }
   ],
   "source": [
    "b"
   ]
  },
  {
   "cell_type": "code",
   "execution_count": 15,
   "metadata": {
    "id": "RzraJyEYHG18"
   },
   "outputs": [],
   "source": [
    "from sklearn.feature_extraction.text import TfidfVectorizer"
   ]
  },
  {
   "cell_type": "code",
   "execution_count": 16,
   "metadata": {
    "id": "kxziIaaUHG19"
   },
   "outputs": [],
   "source": [
    "tfidf = TfidfVectorizer()  # initiallizing Tfidf"
   ]
  },
  {
   "cell_type": "code",
   "execution_count": 17,
   "metadata": {
    "id": "REBuZ-wNHG1-"
   },
   "outputs": [],
   "source": [
    "trans_tfidf = tfidf.fit_transform(df['questions']).toarray()"
   ]
  },
  {
   "cell_type": "code",
   "execution_count": 18,
   "metadata": {
    "colab": {
     "base_uri": "https://localhost:8080/",
     "height": 193
    },
    "id": "X_9V6jwaHG1_",
    "outputId": "76d39071-1f0a-433d-f764-1bd651749e78"
   },
   "outputs": [
    {
     "data": {
      "text/html": [
       "<div>\n",
       "<style scoped>\n",
       "    .dataframe tbody tr th:only-of-type {\n",
       "        vertical-align: middle;\n",
       "    }\n",
       "\n",
       "    .dataframe tbody tr th {\n",
       "        vertical-align: top;\n",
       "    }\n",
       "\n",
       "    .dataframe thead th {\n",
       "        text-align: right;\n",
       "    }\n",
       "</style>\n",
       "<table border=\"1\" class=\"dataframe\">\n",
       "  <thead>\n",
       "    <tr style=\"text-align: right;\">\n",
       "      <th></th>\n",
       "      <th>14</th>\n",
       "      <th>19</th>\n",
       "      <th>2019</th>\n",
       "      <th>about</th>\n",
       "      <th>access</th>\n",
       "      <th>actions</th>\n",
       "      <th>added</th>\n",
       "      <th>additional</th>\n",
       "      <th>adjusting</th>\n",
       "      <th>adopt</th>\n",
       "      <th>...</th>\n",
       "      <th>why</th>\n",
       "      <th>wild</th>\n",
       "      <th>will</th>\n",
       "      <th>with</th>\n",
       "      <th>work</th>\n",
       "      <th>workers</th>\n",
       "      <th>worn</th>\n",
       "      <th>worry</th>\n",
       "      <th>worse</th>\n",
       "      <th>you</th>\n",
       "    </tr>\n",
       "  </thead>\n",
       "  <tbody>\n",
       "    <tr>\n",
       "      <td>0</td>\n",
       "      <td>0.0</td>\n",
       "      <td>0.000000</td>\n",
       "      <td>0.000000</td>\n",
       "      <td>0.0</td>\n",
       "      <td>0.0</td>\n",
       "      <td>0.0</td>\n",
       "      <td>0.0</td>\n",
       "      <td>0.0</td>\n",
       "      <td>0.0</td>\n",
       "      <td>0.0</td>\n",
       "      <td>...</td>\n",
       "      <td>0.000000</td>\n",
       "      <td>0.0</td>\n",
       "      <td>0.0</td>\n",
       "      <td>0.0</td>\n",
       "      <td>0.0</td>\n",
       "      <td>0.0</td>\n",
       "      <td>0.0</td>\n",
       "      <td>0.0</td>\n",
       "      <td>0.0</td>\n",
       "      <td>0.0</td>\n",
       "    </tr>\n",
       "    <tr>\n",
       "      <td>1</td>\n",
       "      <td>0.0</td>\n",
       "      <td>0.104392</td>\n",
       "      <td>0.332053</td>\n",
       "      <td>0.0</td>\n",
       "      <td>0.0</td>\n",
       "      <td>0.0</td>\n",
       "      <td>0.0</td>\n",
       "      <td>0.0</td>\n",
       "      <td>0.0</td>\n",
       "      <td>0.0</td>\n",
       "      <td>...</td>\n",
       "      <td>0.286723</td>\n",
       "      <td>0.0</td>\n",
       "      <td>0.0</td>\n",
       "      <td>0.0</td>\n",
       "      <td>0.0</td>\n",
       "      <td>0.0</td>\n",
       "      <td>0.0</td>\n",
       "      <td>0.0</td>\n",
       "      <td>0.0</td>\n",
       "      <td>0.0</td>\n",
       "    </tr>\n",
       "    <tr>\n",
       "      <td>2</td>\n",
       "      <td>0.0</td>\n",
       "      <td>0.000000</td>\n",
       "      <td>0.000000</td>\n",
       "      <td>0.0</td>\n",
       "      <td>0.0</td>\n",
       "      <td>0.0</td>\n",
       "      <td>0.0</td>\n",
       "      <td>0.0</td>\n",
       "      <td>0.0</td>\n",
       "      <td>0.0</td>\n",
       "      <td>...</td>\n",
       "      <td>0.000000</td>\n",
       "      <td>0.0</td>\n",
       "      <td>0.0</td>\n",
       "      <td>0.0</td>\n",
       "      <td>0.0</td>\n",
       "      <td>0.0</td>\n",
       "      <td>0.0</td>\n",
       "      <td>0.0</td>\n",
       "      <td>0.0</td>\n",
       "      <td>0.0</td>\n",
       "    </tr>\n",
       "  </tbody>\n",
       "</table>\n",
       "<p>3 rows × 413 columns</p>\n",
       "</div>"
      ],
      "text/plain": [
       "    14        19      2019  about  access  actions  added  additional  \\\n",
       "0  0.0  0.000000  0.000000    0.0     0.0      0.0    0.0         0.0   \n",
       "1  0.0  0.104392  0.332053    0.0     0.0      0.0    0.0         0.0   \n",
       "2  0.0  0.000000  0.000000    0.0     0.0      0.0    0.0         0.0   \n",
       "\n",
       "   adjusting  adopt  ...       why  wild  will  with  work  workers  worn  \\\n",
       "0        0.0    0.0  ...  0.000000   0.0   0.0   0.0   0.0      0.0   0.0   \n",
       "1        0.0    0.0  ...  0.286723   0.0   0.0   0.0   0.0      0.0   0.0   \n",
       "2        0.0    0.0  ...  0.000000   0.0   0.0   0.0   0.0      0.0   0.0   \n",
       "\n",
       "   worry  worse  you  \n",
       "0    0.0    0.0  0.0  \n",
       "1    0.0    0.0  0.0  \n",
       "2    0.0    0.0  0.0  \n",
       "\n",
       "[3 rows x 413 columns]"
      ]
     },
     "execution_count": 18,
     "metadata": {},
     "output_type": "execute_result"
    }
   ],
   "source": [
    "data_tfidf = pd.DataFrame(trans_tfidf, columns= tfidf.get_feature_names())\n",
    "data_tfidf.head(3)"
   ]
  },
  {
   "cell_type": "code",
   "execution_count": 19,
   "metadata": {
    "id": "zgSQGTlzHG2A"
   },
   "outputs": [],
   "source": [
    "Question_tfidf = tfidf.transform([Question_lemma]).toarray()\n"
   ]
  },
  {
   "cell_type": "code",
   "execution_count": 20,
   "metadata": {
    "id": "AKY8aygwKAZr"
   },
   "outputs": [],
   "source": [
    "from sklearn.metrics import pairwise_distances"
   ]
  },
  {
   "cell_type": "code",
   "execution_count": 21,
   "metadata": {
    "id": "durKEnGGHG2B"
   },
   "outputs": [],
   "source": [
    "cosine = 1 - pairwise_distances(data_tfidf, Question_tfidf, metric = 'cosine')   # applying cosine similarity"
   ]
  },
  {
   "cell_type": "code",
   "execution_count": 22,
   "metadata": {
    "id": "1XyXR5hHJtvi"
   },
   "outputs": [],
   "source": [
    "def chatter(text):\n",
    "    lemma = lemmatiztaion(text) # calling the funtion \n",
    "    tf = tfidf.transform([lemma]).toarray()\n",
    "    cosine = 1 - pairwise_distances(data_tfidf, tf, metric = 'cosine')   # applying cosine similarity\n",
    "    index_value_new = cosine.argmax()\n",
    "    return df['answers'].loc[index_value_new]"
   ]
  },
  {
   "cell_type": "code",
   "execution_count": 23,
   "metadata": {
    "colab": {
     "base_uri": "https://localhost:8080/",
     "height": 127
    },
    "id": "Z23x0RaZKDAG",
    "outputId": "502415e8-e462-45a0-d378-5416a3f44023"
   },
   "outputs": [
    {
     "data": {
      "text/plain": [
       "'CDC does not have any evidence to suggest that imported animals or animal products pose a risk for spreading COVID-19 in the United States. This is a rapidly evolving situation and information will be updated as it becomes available. CDC, the U. S. Department of Agriculture (USDA), and the U.S. Fish and Wildlife Service (FWS) play distinct but complementary roles in regulating the importation of live animals and animal products into the United States. CDC regulates animals and animal products that pose a threat to human health, USDA regulateexternal icon animals and animal products that pose a threat to agriculture; and FWS regulatesexternal icon importation of endangered species and wildlife that can harm the health and welfare of humans, the interests of agriculture, horticulture, or forestry, and the welfare and survival of wildlife resources.'"
      ]
     },
     "execution_count": 23,
     "metadata": {},
     "output_type": "execute_result"
    }
   ],
   "source": [
    "chatter(\"Does covid will spread due to animals?\")"
   ]
  },
  {
   "cell_type": "code",
   "execution_count": 24,
   "metadata": {
    "colab": {
     "base_uri": "https://localhost:8080/",
     "height": 145
    },
    "id": "wXCheSoXKHIT",
    "outputId": "de6dd448-e97c-4f31-8a47-72f7942e1ab7"
   },
   "outputs": [
    {
     "data": {
      "text/plain": [
       "'It is important to continue taking care of your health and wellness. Continue your medications, and do not change your treatment plan without talking to your healthcare provider. Continue to manage your disease the way your healthcare provider has told you. Have at least a 2-week supply of all prescription and non-prescription medications. Talk to your healthcare provider about whether your vaccinations are up-to-date. Call your healthcare provider if you have any concerns about your medical conditions, or if you get sick. to find out about different ways you can connect with your healthcare provider for chronic disease management or other conditions. Do not delay getting emergency care for your health problems or any health condition that requires immediate attention. If you need emergency help, call 911. Emergency departments have infection prevention plans to protect you from getting COVID-19 if you need care for your medical condition. Continue to practice everyday prevention. Wash your hands often, avoid close contact, wear a mask, cover coughs and sneezes, and clean and disinfect frequently touched surfaces often. For more information, see Groups at Higher Risk for Severe Illness.'"
      ]
     },
     "execution_count": 24,
     "metadata": {},
     "output_type": "execute_result"
    }
   ],
   "source": [
    "chatter(\"Is it safe to get care for my other medical co...\")"
   ]
  }
 ],
 "metadata": {
  "colab": {
   "collapsed_sections": [],
   "name": "nlpcode.ipynb",
   "provenance": []
  },
  "kernelspec": {
   "display_name": "Python 3",
   "language": "python",
   "name": "python3"
  },
  "language_info": {
   "codemirror_mode": {
    "name": "ipython",
    "version": 3
   },
   "file_extension": ".py",
   "mimetype": "text/x-python",
   "name": "python",
   "nbconvert_exporter": "python",
   "pygments_lexer": "ipython3",
   "version": "3.7.4"
  }
 },
 "nbformat": 4,
 "nbformat_minor": 1
}
